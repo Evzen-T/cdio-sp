{
 "cells": [
  {
   "cell_type": "code",
   "execution_count": null,
   "id": "bd8efbe9",
   "metadata": {},
   "outputs": [],
   "source": [
    "!cd ./yolov5 && pip install -r requirements.txt"
   ]
  },
  {
   "cell_type": "code",
   "execution_count": null,
   "id": "a49c5dc3",
   "metadata": {},
   "outputs": [],
   "source": [
    "!pip3 install torch torchvision torchaudio --extra-index-url https://download.pytorch.org/whl/cu116"
   ]
  },
  {
   "cell_type": "code",
   "execution_count": null,
   "id": "34610e92",
   "metadata": {},
   "outputs": [],
   "source": [
    "-------------------------------------------------------------------------------------------------------------------"
   ]
  },
  {
   "cell_type": "code",
   "execution_count": null,
   "id": "f3c1cc3a",
   "metadata": {},
   "outputs": [],
   "source": [
    "#Training for inferencing with bounding boxes\n",
    "!cd ./yolov5 && python3 train.py --img 640 --batch 64 --epochs 100 --data ./data.yaml --weights yolov5n.pt --workers 8"
   ]
  },
  {
   "cell_type": "code",
   "execution_count": null,
   "id": "7c9fa1bc",
   "metadata": {},
   "outputs": [],
   "source": [
    "-------------------------------------------------------------------------------------------------------------------"
   ]
  },
  {
   "cell_type": "code",
   "execution_count": null,
   "id": "003bad27",
   "metadata": {},
   "outputs": [],
   "source": [
    "#Conversion to openvino (To run inference on streamlit)\n",
    "!cd ./yolov5 && python3 export.py --weights ./runs/train/exp<num>/weights/best.pt --include openvino"
   ]
  },
  {
   "cell_type": "code",
   "execution_count": null,
   "id": "602248e3",
   "metadata": {},
   "outputs": [],
   "source": [
    "-------------------------------------------------------------------------------------------------------------------"
   ]
  },
  {
   "cell_type": "code",
   "execution_count": null,
   "id": "d9a8a2a6",
   "metadata": {},
   "outputs": [],
   "source": [
    "#Training for inferencing with instance segmentation\n",
    "!cd ./yolov5 && python3 train.py --img 640 --batch 64 --epochs 100 --data ./data.yaml --weights yolov5n.pt --workers 8"
   ]
  },
  {
   "cell_type": "code",
   "execution_count": null,
   "id": "dbd58cbe",
   "metadata": {},
   "outputs": [],
   "source": [
    "-------------------------------------------------------------------------------------------------------------------"
   ]
  },
  {
   "cell_type": "code",
   "execution_count": null,
   "id": "b37872ae",
   "metadata": {},
   "outputs": [],
   "source": [
    "#Conversion to openvino (To run inference on streamlit)\n",
    "!cd ./yolov5 && python3 export.py --weights ./runs/train/exp<num>/weights/best.pt --include openvino"
   ]
  }
 ],
 "metadata": {
  "kernelspec": {
   "display_name": "Python 3 (ipykernel)",
   "language": "python",
   "name": "python3"
  },
  "language_info": {
   "codemirror_mode": {
    "name": "ipython",
    "version": 3
   },
   "file_extension": ".py",
   "mimetype": "text/x-python",
   "name": "python",
   "nbconvert_exporter": "python",
   "pygments_lexer": "ipython3",
   "version": "3.8.10"
  }
 },
 "nbformat": 4,
 "nbformat_minor": 5
}
